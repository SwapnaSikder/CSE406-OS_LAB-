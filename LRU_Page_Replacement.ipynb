{
  "nbformat": 4,
  "nbformat_minor": 0,
  "metadata": {
    "colab": {
      "provenance": []
    },
    "kernelspec": {
      "name": "python3",
      "display_name": "Python 3"
    },
    "language_info": {
      "name": "python"
    }
  },
  "cells": [
    {
      "cell_type": "code",
      "execution_count": 2,
      "metadata": {
        "colab": {
          "base_uri": "https://localhost:8080/"
        },
        "id": "boBO8LgeIAQU",
        "outputId": "a0511b4e-7c46-495d-9f5b-155856fe72d8"
      },
      "outputs": [
        {
          "output_type": "stream",
          "name": "stdout",
          "text": [
            "Page Faults: 6\n"
          ]
        }
      ],
      "source": [
        "def lru_page_replacement(reference_string, num_frames):\n",
        "    frames = []\n",
        "    page_faults = 0\n",
        "\n",
        "    for page in reference_string:\n",
        "        if page not in frames:\n",
        "            page_faults += 1\n",
        "            if len(frames) >= num_frames:\n",
        "                frames.pop(0)  # Remove the least recently used page\n",
        "            frames.append(page)  # Add the new page\n",
        "\n",
        "    return page_faults\n",
        "\n",
        "# Reference string and number of frames\n",
        "reference_string = [7, 0, 1, 2, 0, 3, 0, 4, 2, 3]\n",
        "num_frames = 4\n",
        "\n",
        "# Output the result\n",
        "print(\"Page Faults:\", lru_page_replacement(reference_string, num_frames))\n"
      ]
    }
  ]
}