{
  "nbformat": 4,
  "nbformat_minor": 0,
  "metadata": {
    "colab": {
      "provenance": []
    },
    "kernelspec": {
      "name": "python3",
      "display_name": "Python 3"
    },
    "language_info": {
      "name": "python"
    }
  },
  "cells": [
    {
      "cell_type": "code",
      "execution_count": 1,
      "metadata": {
        "colab": {
          "base_uri": "https://localhost:8080/"
        },
        "id": "N6fU4ggHG4Mv",
        "outputId": "2ba2a1aa-b69f-4064-b20b-1e2380db9f87"
      },
      "outputs": [
        {
          "output_type": "stream",
          "name": "stdout",
          "text": [
            "Page Faults: 6\n"
          ]
        }
      ],
      "source": [
        "def fifo_page_replacement(reference_string, num_frames):\n",
        "    frames = []\n",
        "    page_faults = 0\n",
        "\n",
        "    for page in reference_string:\n",
        "        if page not in frames:\n",
        "            page_faults += 1\n",
        "            if len(frames) < num_frames:\n",
        "                frames.append(page)\n",
        "            else:\n",
        "                frames.pop(0)  # Remove the first page (FIFO)\n",
        "                frames.append(page)\n",
        "\n",
        "    return page_faults\n",
        "\n",
        "# Reference string and number of frames\n",
        "reference_string = [1, 3, 0, 3, 5, 6, 3]\n",
        "num_frames = 3\n",
        "\n",
        "# Run FIFO and print the result\n",
        "print(f\"Page Faults: {fifo_page_replacement(reference_string, num_frames)}\")\n"
      ]
    }
  ]
}