{
  "nbformat": 4,
  "nbformat_minor": 0,
  "metadata": {
    "colab": {
      "provenance": []
    },
    "kernelspec": {
      "name": "python3",
      "display_name": "Python 3"
    },
    "language_info": {
      "name": "python"
    }
  },
  "cells": [
    {
      "cell_type": "markdown",
      "source": [
        "2.FIFO_Page_Replacement"
      ],
      "metadata": {
        "id": "3X-pO430FM0u"
      }
    },
    {
      "cell_type": "code",
      "execution_count": 1,
      "metadata": {
        "colab": {
          "base_uri": "https://localhost:8080/"
        },
        "id": "oTWunsjWz5BH",
        "outputId": "e23abe5a-c64c-4839-f555-4064cefe7a78"
      },
      "outputs": [
        {
          "output_type": "stream",
          "name": "stdout",
          "text": [
            "Total Page Hits: 3\n",
            "Total Page Misses: 10\n"
          ]
        }
      ],
      "source": [
        "def fifo_page_replacement(pages, frame_size):\n",
        "    frames = []\n",
        "    page_faults = 0\n",
        "    page_hits = 0\n",
        "    queue_index = 0  # Tracks the position to replace in FIFO manner\n",
        "\n",
        "    for page in pages:\n",
        "        if page in frames:\n",
        "            page_hits += 1\n",
        "        else:\n",
        "            page_faults += 1\n",
        "            if len(frames) < frame_size:\n",
        "                frames.append(page)\n",
        "            else:\n",
        "                frames[queue_index] = page\n",
        "                queue_index = (queue_index + 1) % frame_size  # Circular replacement\n",
        "\n",
        "    print(\"Total Page Hits:\", page_hits)\n",
        "    print(\"Total Page Misses:\", page_faults)\n",
        "\n",
        "# Test data\n",
        "page_reference = [0, 1, 5, 3, 5, 0, 2, 4, 7, 9, 0, 0, 3]\n",
        "frame_size = 4\n",
        "\n",
        "fifo_page_replacement(page_reference, frame_size)\n"
      ]
    },
    {
      "cell_type": "markdown",
      "source": [
        "1.Round Robin"
      ],
      "metadata": {
        "id": "OzYMJGNvE-Wv"
      }
    },
    {
      "cell_type": "code",
      "source": [
        "from collections import deque\n",
        "\n",
        "def round_robin(processes, arrival_times, burst_times, time_quantum):\n",
        "    n = len(processes)\n",
        "    remaining_burst = burst_times[:]\n",
        "    completion_time = [0] * n\n",
        "    turnaround_time = [0] * n\n",
        "    waiting_time = [0] * n\n",
        "    response_time = [-1] * n\n",
        "\n",
        "    queue = deque()\n",
        "    execution_log = []  # To store the execution sequence\n",
        "    current_time = 0\n",
        "    index = 0\n",
        "\n",
        "    while index < n or queue:\n",
        "        while index < n and arrival_times[index] <= current_time:\n",
        "            queue.append(index)\n",
        "            index += 1\n",
        "\n",
        "        if queue:\n",
        "            i = queue.popleft()\n",
        "            if response_time[i] == -1:\n",
        "                response_time[i] = current_time - arrival_times[i]\n",
        "\n",
        "            exec_time = min(time_quantum, remaining_burst[i])\n",
        "            remaining_burst[i] -= exec_time\n",
        "            execution_log.append(processes[i])  # Log the process execution\n",
        "            current_time += exec_time\n",
        "\n",
        "            while index < n and arrival_times[index] <= current_time:\n",
        "                queue.append(index)\n",
        "                index += 1\n",
        "\n",
        "            if remaining_burst[i] > 0:\n",
        "                queue.append(i)\n",
        "            else:\n",
        "                completion_time[i] = current_time\n",
        "                turnaround_time[i] = completion_time[i] - arrival_times[i]\n",
        "                waiting_time[i] = turnaround_time[i] - burst_times[i]\n",
        "        else:\n",
        "            current_time = arrival_times[index]\n",
        "\n",
        "    print(\"\\nExecution Queue:\")\n",
        "    print(\" -> \".join(execution_log))\n",
        "\n",
        "    print(\"\\nPID  AT  BT  CT  TAT  WT  RT\")\n",
        "    for i in range(n):\n",
        "        print(\n",
        "            f\"{processes[i]}\\t{arrival_times[i]}\\t{burst_times[i]}\\t{completion_time[i]}\\t{turnaround_time[i]}\\t{waiting_time[i]}\\t{response_time[i]}\")\n",
        "\n",
        "processes = ['P1', 'P2', 'P3', 'P4', 'P5', 'P6']\n",
        "arrival_times = [0, 1, 2, 3, 4, 4]\n",
        "burst_times = [7, 4, 15, 11, 20, 9]\n",
        "time_quantum = 5\n",
        "\n",
        "round_robin(processes, arrival_times, burst_times, time_quantum)"
      ],
      "metadata": {
        "colab": {
          "base_uri": "https://localhost:8080/"
        },
        "id": "7BCyctTkDs2G",
        "outputId": "d505e9e6-5a0e-4757-c5c1-11c7623d0b7b"
      },
      "execution_count": 2,
      "outputs": [
        {
          "output_type": "stream",
          "name": "stdout",
          "text": [
            "\n",
            "Execution Queue:\n",
            "P1 -> P2 -> P3 -> P4 -> P5 -> P6 -> P1 -> P3 -> P4 -> P5 -> P6 -> P3 -> P4 -> P5 -> P5\n",
            "\n",
            "PID  AT  BT  CT  TAT  WT  RT\n",
            "P1\t0\t7\t31\t31\t24\t0\n",
            "P2\t1\t4\t9\t8\t4\t4\n",
            "P3\t2\t15\t55\t53\t38\t7\n",
            "P4\t3\t11\t56\t53\t42\t11\n",
            "P5\t4\t20\t66\t62\t42\t15\n",
            "P6\t4\t9\t50\t46\t37\t20\n"
          ]
        }
      ]
    }
  ]
}