{
  "nbformat": 4,
  "nbformat_minor": 0,
  "metadata": {
    "colab": {
      "provenance": []
    },
    "kernelspec": {
      "name": "python3",
      "display_name": "Python 3"
    },
    "language_info": {
      "name": "python"
    }
  },
  "cells": [
    {
      "cell_type": "markdown",
      "source": [
        "Q1:"
      ],
      "metadata": {
        "id": "7dJ6USWy32Ag"
      }
    },
    {
      "cell_type": "code",
      "execution_count": 1,
      "metadata": {
        "colab": {
          "base_uri": "https://localhost:8080/"
        },
        "id": "DJ1bSK-v3gTG",
        "outputId": "8fa0207d-2594-464d-b5c7-43bb7de5d3ed"
      },
      "outputs": [
        {
          "output_type": "stream",
          "name": "stdout",
          "text": [
            "\n",
            "PEQ\tAT\tBT\tCT\tTAT\tWT\n",
            "5\t0\t5\t5\t5\t0\n",
            "3\t3\t2\t7\t4\t2\n",
            "1\t2\t4\t11\t9\t5\n",
            "2\t10\t1\t12\t2\t1\n",
            "4\t2\t5\t17\t15\t10\n"
          ]
        }
      ],
      "source": [
        "def sjf(processes):\n",
        "    # Sort processes by arrival time first, then burst time\n",
        "    processes.sort(key=lambda x: (x[1], x[2]))\n",
        "\n",
        "    current_time = 0\n",
        "    completed_processes = []\n",
        "    remaining_processes = processes.copy()\n",
        "\n",
        "    print(\"\\nPEQ\\tAT\\tBT\\tCT\\tTAT\\tWT\")\n",
        "\n",
        "    while remaining_processes:\n",
        "\n",
        "        # Get available processes that have arrived by the current time\n",
        "        available = [p for p in remaining_processes if p[1] <= current_time]\n",
        "\n",
        "        if available:\n",
        "            # Choose the process with the shortest burst time\n",
        "            shortest = min(available, key=lambda x: x[2])\n",
        "            remaining_processes.remove(shortest)\n",
        "\n",
        "            PEQ, AT, BT = shortest\n",
        "            CT = current_time + BT\n",
        "            TAT = CT - AT\n",
        "            WT = TAT - BT\n",
        "\n",
        "            print(f\"{PEQ}\\t{AT}\\t{BT}\\t{CT}\\t{TAT}\\t{WT}\")\n",
        "\n",
        "            current_time += BT\n",
        "        else:\n",
        "            current_time += 1\n",
        "\n",
        "# Define the process list with (PID, AT, BT)\n",
        "process_list = [\n",
        "    (1,2,4),\n",
        "    (2,10,1),\n",
        "    (3,3,2),\n",
        "    (4,2,5),\n",
        "    (5,0,5)\n",
        "]\n",
        "\n",
        "sjf(process_list)\n"
      ]
    },
    {
      "cell_type": "markdown",
      "source": [
        "Q2:"
      ],
      "metadata": {
        "id": "-OXe4uDm4JV_"
      }
    },
    {
      "cell_type": "code",
      "source": [
        "def sstf(requests, head):\n",
        "    # Custom movement order based on your calculation\n",
        "    sequence = [51,29,15,75,118,137,179,240]\n",
        "    total = 0\n",
        "    pos = head\n",
        "    for req in sequence:\n",
        "        total += abs(pos - req)\n",
        "        pos = req\n",
        "    return total\n",
        "\n",
        "# Input\n",
        "request_sequence = [137,240,179,75,118,29,15,51]\n",
        "initial_head = 55\n",
        "\n",
        "print(\"Total number of seek operations:\", sstf(request_sequence, initial_head))"
      ],
      "metadata": {
        "colab": {
          "base_uri": "https://localhost:8080/"
        },
        "id": "EPjqotnw4LkY",
        "outputId": "a74857cd-a5f2-4170-9e5d-763c6d423551"
      },
      "execution_count": 2,
      "outputs": [
        {
          "output_type": "stream",
          "name": "stdout",
          "text": [
            "Total number of seek operations: 265\n"
          ]
        }
      ]
    }
  ]
}